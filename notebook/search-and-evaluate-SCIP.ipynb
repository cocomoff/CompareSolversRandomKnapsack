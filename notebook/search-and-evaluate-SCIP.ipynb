{
 "cells": [
  {
   "cell_type": "code",
   "execution_count": 1,
   "id": "57fdec12-c98a-4c81-85f1-c411835926f4",
   "metadata": {},
   "outputs": [
    {
     "data": {
      "text/plain": [
       "Plots.GRBackend()"
      ]
     },
     "execution_count": 1,
     "metadata": {},
     "output_type": "execute_result"
    }
   ],
   "source": [
    "using JuMP\n",
    "using SCIP\n",
    "using Statistics\n",
    "using MathOptInterface\n",
    "using Plots\n",
    "gr()"
   ]
  },
  {
   "cell_type": "markdown",
   "id": "a662dce7-a116-4dd9-b2b1-b667d210b529",
   "metadata": {},
   "source": [
    "インスタンスのうち計算時間が大きそうなものを探してくる\n",
    "\n",
    "see: https://zenn.dev/kounoike/articles/20210327-hard-knapsack#pisinger%E3%81%AE%E3%82%B8%E3%82%A7%E3%83%8D%E3%83%AC%E3%83%BC%E3%82%BF"
   ]
  },
  {
   "cell_type": "code",
   "execution_count": 2,
   "id": "8bbd6311-67ee-41d9-946b-8e5e1b7ea4bc",
   "metadata": {},
   "outputs": [
    {
     "data": {
      "text/plain": [
       "solve (generic function with 1 method)"
      ]
     },
     "execution_count": 2,
     "metadata": {},
     "output_type": "execute_result"
    }
   ],
   "source": [
    "# 関数\n",
    "function solve(W, V, Capacity; ts=1, level=1, gap=0.01)\n",
    "    N = length(W)\n",
    "    \n",
    "    # SCIPのみ\n",
    "    model = Model(SCIP.Optimizer)\n",
    "    set_optimizer_attribute(model, \"display/verblevel\", level)\n",
    "    set_optimizer_attribute(model, \"limits/time\", ts)\n",
    "    set_optimizer_attribute(model, \"limits/gap\", gap)\n",
    "    \n",
    "    @variable(model, x[1:N], Bin)\n",
    "    @objective(model, Max, sum(V[i] * x[i] for i in 1:N))\n",
    "    @constraint(model, sum(W[i] * x[i] for i in 1:N) <= Capacity)\n",
    "    optimize!(model)\n",
    "    \n",
    "    if MOI.get(model, MOI.TerminationStatus()) == MOI.OPTIMAL # check\n",
    "        obj = objective_value(model)\n",
    "        resx = value.(x)\n",
    "        sol = [i for i in 1:N if resx[i] > 0.5]\n",
    "        return obj, sol\n",
    "    else\n",
    "        return nothing, nothing\n",
    "    end\n",
    "end"
   ]
  },
  {
   "cell_type": "code",
   "execution_count": 3,
   "id": "911ff1de-13be-422d-9664-db21c718913b",
   "metadata": {},
   "outputs": [
    {
     "name": "stdout",
     "output_type": "stream",
     "text": [
      "17.0\n",
      "[1, 4, 5]\n"
     ]
    }
   ],
   "source": [
    "# 1回動かしておくと良い\n",
    "W = [4, 2, 2, 1, 10]\n",
    "V = [12, 2, 1, 1, 4]\n",
    "Capacity = 15\n",
    "obj, sol = solve(W, V, Capacity; level=0)\n",
    "println(obj)\n",
    "println(sol)"
   ]
  },
  {
   "cell_type": "code",
   "execution_count": 6,
   "id": "f9a346fe-644a-45c8-bd7f-8542e50092e0",
   "metadata": {},
   "outputs": [
    {
     "name": "stdout",
     "output_type": "stream",
     "text": [
      "knapPI_11_10000_1000.csv,0.9998233048105855,0.9160730242729187\n",
      "knapPI_12_10000_1000.csv,0.9998998854346434,0.9064184308052063\n",
      "knapPI_12_5000_1000.csv,0.9998473151115029,0.5555031299591064\n",
      "knapPI_13_10000_1000.csv,0.9997428012813293,0.8743130874633789\n",
      "knapPI_13_5000_1000.csv,0.9997680048804578,0.5152662595113119\n",
      "knapPI_15_10000_1000.csv,0.9996628777251206,0.7030484318733216\n",
      "knapPI_15_5000_1000.csv,0.9996096930304744,0.4814458063670567\n"
     ]
    }
   ],
   "source": [
    "op = open(\"result.csv\", \"w\")\n",
    "\n",
    "for filename in sort(readdir(\"download_instances/\"))\n",
    "    !(endswith(filename, \".csv\")) && continue\n",
    "    \n",
    "    n = parse(Int, split(filename, \"_\")[3])\n",
    "        \n",
    "    open(\"./download_instances/$(filename)\", \"r\") do fp\n",
    "        lines = readlines(fp)\n",
    "        \n",
    "        indices = []\n",
    "        for idx in 1:length(lines)\n",
    "            if startswith(lines[idx], \"knap\")\n",
    "                push!(indices, idx)\n",
    "            end\n",
    "        end\n",
    "    \n",
    "        \n",
    "        res_ratio = []\n",
    "        res_time = []\n",
    "        for s in indices\n",
    "            # n = parse(Int, split(lines[s + 1], \" \")[2])\n",
    "            c = parse(Int, split(lines[s + 2], \" \")[2])\n",
    "            z = parse(Int, split(lines[s + 3], \" \")[2])\n",
    "            t = parse(Float64, split(lines[s + 4], \" \")[2])\n",
    "            \n",
    "            (t < 0.5) && continue\n",
    "            \n",
    "            W = []\n",
    "            V = []\n",
    "            data_sol = []\n",
    "            w = 0\n",
    "            \n",
    "            for line in lines[s+5:s+5+n-1]\n",
    "                (line[1] == \"-\") && continue\n",
    "                num, value, weight, sol = parse.(Int, split(line, \",\"))\n",
    "                push!(W, weight)\n",
    "                push!(V, value)\n",
    "                if sol > 0.5\n",
    "                    w += weight\n",
    "                    push!(data_sol, num)\n",
    "                end                \n",
    "            end\n",
    "\n",
    "            # Solve by SCIP\n",
    "            ts = time()\n",
    "            obj, sol = solve(W, V, c; level=0, ts=30, gap=0.001)\n",
    "            t2 = time() - ts\n",
    "            push!(res_ratio, obj / z)\n",
    "            push!(res_time, t2)\n",
    "        end\n",
    "        \n",
    "        if !isempty(res_ratio)\n",
    "            println(filename, \",\", mean(res_ratio), \",\", mean(res_time))\n",
    "            println(op, filename, \",\", mean(res_ratio), \",\", mean(res_time))\n",
    "        end\n",
    "    end\n",
    "end\n",
    "\n",
    "close(op)"
   ]
  },
  {
   "cell_type": "code",
   "execution_count": null,
   "id": "f7b0fde4-e425-4c36-8ba0-172882c97c62",
   "metadata": {},
   "outputs": [],
   "source": []
  }
 ],
 "metadata": {
  "kernelspec": {
   "display_name": "Julia 1.6.7",
   "language": "julia",
   "name": "julia-1.6"
  },
  "language_info": {
   "file_extension": ".jl",
   "mimetype": "application/julia",
   "name": "julia",
   "version": "1.6.7"
  }
 },
 "nbformat": 4,
 "nbformat_minor": 5
}
